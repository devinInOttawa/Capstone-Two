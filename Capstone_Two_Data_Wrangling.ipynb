{
 "cells": [
  {
   "cell_type": "markdown",
   "id": "318b69dd",
   "metadata": {},
   "source": [
    "# Capstone Two: Data Wrangling\n",
    "\n"
   ]
  },
  {
   "cell_type": "markdown",
   "id": "a8a4e65d",
   "metadata": {},
   "source": [
    "## 1.Background\n",
    "Therapeutic antibodies are very important biopharmaceutics for cancers and autoimmune diseases. However, some antibodies cannot be developed and manufactured due to low stability and high aggregation of antibodies. Such kind of failures in the development of antibodies can waste huge investments. If the developability of antibodies can be predicted by a model in advance, the model can guide the pipelines of the development of antibodies and reduce the investment risks.\n",
    "\n",
    "This captone two is data wrangling based on the dataset Chen et al (Chen 2020). Antibody data from Chen et al, where they process from the SAbDab. From an initial dataset of 3816 antibodies, they retained 2426 antibodies that satisfy the following criteria: 1. have both sequence (FASTA) and Protein Data Bank (PDB) structure files, 2. contain both a heavy chain and a light chain, and 3. have crystal structures with resolution < 3 Å. The DI label is derived from BIOVIA's pipelines.\n",
    "Link: https://tdcommons.ai/single_pred_tasks/develop/"
   ]
  },
  {
   "cell_type": "markdown",
   "id": "f90622d0",
   "metadata": {},
   "source": [
    "## 2.Import Modules"
   ]
  },
  {
   "cell_type": "code",
   "execution_count": 1,
   "id": "842a271c",
   "metadata": {},
   "outputs": [],
   "source": [
    "# import numpy and pandas\n",
    "import numpy as np\n",
    "import pandas as pd\n",
    "import matplotlib.pyplot as plt"
   ]
  },
  {
   "cell_type": "markdown",
   "id": "b7398533",
   "metadata": {},
   "source": [
    "Therapeutics Data Commons (TDC) is an open and extensive data hub that includes 50+ machine learning (ML) ready datasets across 20+ therapeutic tasks, ranging from target discovery, activity screening, efficacy, safety to manufacturing, covering small molecule, antibodies, miRNA and other therapeutics products (Huang 2021). In this project, we need to use TDC libraries for this project."
   ]
  },
  {
   "cell_type": "markdown",
   "id": "ea9b17f9",
   "metadata": {},
   "source": [
    "## 3.Load Dataset"
   ]
  },
  {
   "cell_type": "code",
   "execution_count": 2,
   "id": "70048515",
   "metadata": {},
   "outputs": [
    {
     "name": "stderr",
     "output_type": "stream",
     "text": [
      "Found local copy...\n",
      "Loading...\n",
      "Done!\n"
     ]
    }
   ],
   "source": [
    "# loading the data from dateset \n",
    "from tdc.single_pred import Develop\n",
    "data = Develop(name = 'SAbDab_Chen')"
   ]
  },
  {
   "cell_type": "code",
   "execution_count": 3,
   "id": "df3fefdc",
   "metadata": {},
   "outputs": [
    {
     "data": {
      "text/html": [
       "<div>\n",
       "<style scoped>\n",
       "    .dataframe tbody tr th:only-of-type {\n",
       "        vertical-align: middle;\n",
       "    }\n",
       "\n",
       "    .dataframe tbody tr th {\n",
       "        vertical-align: top;\n",
       "    }\n",
       "\n",
       "    .dataframe thead th {\n",
       "        text-align: right;\n",
       "    }\n",
       "</style>\n",
       "<table border=\"1\" class=\"dataframe\">\n",
       "  <thead>\n",
       "    <tr style=\"text-align: right;\">\n",
       "      <th></th>\n",
       "      <th>Y</th>\n",
       "    </tr>\n",
       "  </thead>\n",
       "  <tbody>\n",
       "    <tr>\n",
       "      <th>count</th>\n",
       "      <td>2409.000000</td>\n",
       "    </tr>\n",
       "    <tr>\n",
       "      <th>mean</th>\n",
       "      <td>0.200083</td>\n",
       "    </tr>\n",
       "    <tr>\n",
       "      <th>std</th>\n",
       "      <td>0.400145</td>\n",
       "    </tr>\n",
       "    <tr>\n",
       "      <th>min</th>\n",
       "      <td>0.000000</td>\n",
       "    </tr>\n",
       "    <tr>\n",
       "      <th>25%</th>\n",
       "      <td>0.000000</td>\n",
       "    </tr>\n",
       "    <tr>\n",
       "      <th>50%</th>\n",
       "      <td>0.000000</td>\n",
       "    </tr>\n",
       "    <tr>\n",
       "      <th>75%</th>\n",
       "      <td>0.000000</td>\n",
       "    </tr>\n",
       "    <tr>\n",
       "      <th>max</th>\n",
       "      <td>1.000000</td>\n",
       "    </tr>\n",
       "  </tbody>\n",
       "</table>\n",
       "</div>"
      ],
      "text/plain": [
       "                 Y\n",
       "count  2409.000000\n",
       "mean      0.200083\n",
       "std       0.400145\n",
       "min       0.000000\n",
       "25%       0.000000\n",
       "50%       0.000000\n",
       "75%       0.000000\n",
       "max       1.000000"
      ]
     },
     "execution_count": 3,
     "metadata": {},
     "output_type": "execute_result"
    }
   ],
   "source": [
    "data0 = data.get_data()\n",
    "data0.describe()\n"
   ]
  },
  {
   "cell_type": "code",
   "execution_count": 4,
   "id": "d6bd30b2",
   "metadata": {},
   "outputs": [
    {
     "data": {
      "text/html": [
       "<div>\n",
       "<style scoped>\n",
       "    .dataframe tbody tr th:only-of-type {\n",
       "        vertical-align: middle;\n",
       "    }\n",
       "\n",
       "    .dataframe tbody tr th {\n",
       "        vertical-align: top;\n",
       "    }\n",
       "\n",
       "    .dataframe thead th {\n",
       "        text-align: right;\n",
       "    }\n",
       "</style>\n",
       "<table border=\"1\" class=\"dataframe\">\n",
       "  <thead>\n",
       "    <tr style=\"text-align: right;\">\n",
       "      <th></th>\n",
       "      <th>Antibody_ID</th>\n",
       "      <th>Antibody</th>\n",
       "      <th>Y</th>\n",
       "    </tr>\n",
       "  </thead>\n",
       "  <tbody>\n",
       "    <tr>\n",
       "      <th>0</th>\n",
       "      <td>12e8</td>\n",
       "      <td>['EVQLQQSGAEVVRSGASVKLSCTASGFNIKDYYIHWVKQRPEKG...</td>\n",
       "      <td>0</td>\n",
       "    </tr>\n",
       "    <tr>\n",
       "      <th>1</th>\n",
       "      <td>15c8</td>\n",
       "      <td>['EVQLQQSGAELVKPGASVKLSCTASGFNIKDTYMHWVKQKPEQG...</td>\n",
       "      <td>0</td>\n",
       "    </tr>\n",
       "    <tr>\n",
       "      <th>2</th>\n",
       "      <td>1a0q</td>\n",
       "      <td>['EVQLQESDAELVKPGASVKISCKASGYTFTDHVIHWVKQKPEQG...</td>\n",
       "      <td>1</td>\n",
       "    </tr>\n",
       "    <tr>\n",
       "      <th>3</th>\n",
       "      <td>1a14</td>\n",
       "      <td>['QVQLQQSGAELVKPGASVRMSCKASGYTFTNYNMYWVKQSPGQG...</td>\n",
       "      <td>0</td>\n",
       "    </tr>\n",
       "    <tr>\n",
       "      <th>4</th>\n",
       "      <td>1a2y</td>\n",
       "      <td>['QVQLQESGPGLVAPSQSLSITCTVSGFSLTGYGVNWVRQPPGKG...</td>\n",
       "      <td>0</td>\n",
       "    </tr>\n",
       "  </tbody>\n",
       "</table>\n",
       "</div>"
      ],
      "text/plain": [
       "  Antibody_ID                                           Antibody  Y\n",
       "0        12e8  ['EVQLQQSGAEVVRSGASVKLSCTASGFNIKDYYIHWVKQRPEKG...  0\n",
       "1        15c8  ['EVQLQQSGAELVKPGASVKLSCTASGFNIKDTYMHWVKQKPEQG...  0\n",
       "2        1a0q  ['EVQLQESDAELVKPGASVKISCKASGYTFTDHVIHWVKQKPEQG...  1\n",
       "3        1a14  ['QVQLQQSGAELVKPGASVRMSCKASGYTFTNYNMYWVKQSPGQG...  0\n",
       "4        1a2y  ['QVQLQESGPGLVAPSQSLSITCTVSGFSLTGYGVNWVRQPPGKG...  0"
      ]
     },
     "execution_count": 4,
     "metadata": {},
     "output_type": "execute_result"
    }
   ],
   "source": [
    "data0.head(5)"
   ]
  },
  {
   "cell_type": "markdown",
   "id": "3ab50b86",
   "metadata": {},
   "source": [
    "## 4.Check Null Values"
   ]
  },
  {
   "cell_type": "code",
   "execution_count": 5,
   "id": "af222370",
   "metadata": {},
   "outputs": [
    {
     "data": {
      "text/plain": [
       "False"
      ]
     },
     "execution_count": 5,
     "metadata": {},
     "output_type": "execute_result"
    }
   ],
   "source": [
    "data0.isnull().values.any()"
   ]
  },
  {
   "cell_type": "markdown",
   "id": "b11c5979",
   "metadata": {},
   "source": [
    "The dataset is neat and clean."
   ]
  },
  {
   "cell_type": "markdown",
   "id": "a8ae0f0e",
   "metadata": {},
   "source": [
    "## 5.Check Values in Columns"
   ]
  },
  {
   "cell_type": "markdown",
   "id": "cfe5d548",
   "metadata": {},
   "source": [
    "Y column is the developability labels. Ideally, it should be 1 or 0. The total number of oberservations is 2409."
   ]
  },
  {
   "cell_type": "code",
   "execution_count": 6,
   "id": "7a1ec038",
   "metadata": {},
   "outputs": [
    {
     "data": {
      "text/plain": [
       "2409"
      ]
     },
     "execution_count": 6,
     "metadata": {},
     "output_type": "execute_result"
    }
   ],
   "source": [
    "# check y columns values is 0 or 1\n",
    "len(data0[(data0['Y']==1) | (data0['Y']==0)])"
   ]
  },
  {
   "cell_type": "markdown",
   "id": "cdead013",
   "metadata": {},
   "source": [
    "So all values in Y column are either 0 or 1."
   ]
  },
  {
   "cell_type": "code",
   "execution_count": 7,
   "id": "a403fb44",
   "metadata": {},
   "outputs": [
    {
     "data": {
      "text/plain": [
       "0.7999169779991698"
      ]
     },
     "execution_count": 7,
     "metadata": {},
     "output_type": "execute_result"
    }
   ],
   "source": [
    "# calculate the percentage of 0 in y column\n",
    "len(data0[(data0['Y']==0)])/2409"
   ]
  },
  {
   "cell_type": "markdown",
   "id": "944fcd14",
   "metadata": {},
   "source": [
    "The data is imbalanced because 70% oberservations are 0."
   ]
  },
  {
   "cell_type": "code",
   "execution_count": 8,
   "id": "591f140a",
   "metadata": {},
   "outputs": [
    {
     "name": "stdout",
     "output_type": "stream",
     "text": [
      "Max length of antibody sequence is 289\n",
      "Min length of antibody sequence is 219\n",
      "Mean length of antibody sequence is 237.66915732669156\n"
     ]
    }
   ],
   "source": [
    "# check the antibody column\n",
    "# check the length of the antibody sequence\n",
    "print(f\"Max length of antibody sequence is {max(data0['Antibody'].str.len())}\")\n",
    "print(f\"Min length of antibody sequence is {min(data0['Antibody'].str.len())}\")\n",
    "print(f\"Mean length of antibody sequence is {np.mean(data0['Antibody'].str.len())}\")"
   ]
  },
  {
   "cell_type": "code",
   "execution_count": 9,
   "id": "b4c62933",
   "metadata": {},
   "outputs": [
    {
     "data": {
      "text/plain": [
       "<AxesSubplot:ylabel='Frequency'>"
      ]
     },
     "execution_count": 9,
     "metadata": {},
     "output_type": "execute_result"
    },
    {
     "data": {
      "image/png": "[encoded data removed]",
      "text/plain": [
       "<Figure size 432x288 with 1 Axes>"
      ]
     },
     "metadata": {
      "needs_background": "light"
     },
     "output_type": "display_data"
    }
   ],
   "source": [
    "data0['Antibody'].str.len().plot(kind='hist',bins=20)"
   ]
  },
  {
   "cell_type": "markdown",
   "id": "18213962",
   "metadata": {},
   "source": [
    "It is necessary to check the very long sequence over 280 and below 225."
   ]
  },
  {
   "cell_type": "code",
   "execution_count": 10,
   "id": "b7570868",
   "metadata": {},
   "outputs": [
    {
     "data": {
      "text/plain": [
       "1236    ['EVQLRESGPSLVKPSQTLSLTCTASGFSLSDKAVGWVRQAPGKA...\n",
       "1237    ['EVQLRESGPSLVQPSQTLSLTCTASGFSLSDKAVGWVRQAPGKA...\n",
       "1631    ['QVQLRESGPSLVKPSQTLSLTCTASGFSLSDKAVGWVRQAPGKA...\n",
       "1745    ['QVQLRESGPSLVKPSQTLSLTCTASGFSLSDKAVGWVRQAPGKA...\n",
       "1752    ['QVQLRESGPSLVKPSQTLSLTCTASGFSLSDKAVGWVRQAPEKA...\n",
       "2216    ['QVQLRESGPSLVKPSQTLSLTCTASGFSLSDKAVGWVRQAPGKA...\n",
       "2217    ['QVQLRESGPSLVKPSQTLSLTCTASGFSLSDKAVGWVRQAPGKA...\n",
       "2218    ['QVQLRESGPSLVKPSQTLSLTCTASGLSLSDKAVGWVRQAPGKA...\n",
       "2219    ['QVQLRESGPSLVKPSQTLSLTCTASGFSLSDKAVGWVRQAPGKA...\n",
       "2220    ['QVQLRESGPSLVKPSQTLSLTCTASGFSLSDKAVGWVRQAPGKA...\n",
       "Name: Antibody, dtype: object"
      ]
     },
     "execution_count": 10,
     "metadata": {},
     "output_type": "execute_result"
    }
   ],
   "source": [
    "data0.loc[data0['Antibody'].str.len()>=280,'Antibody']"
   ]
  },
  {
   "cell_type": "code",
   "execution_count": 11,
   "id": "427fc1a8",
   "metadata": {},
   "outputs": [
    {
     "data": {
      "text/plain": [
       "10"
      ]
     },
     "execution_count": 11,
     "metadata": {},
     "output_type": "execute_result"
    }
   ],
   "source": [
    "len(data0.loc[data0['Antibody'].str.len()>=280,'Antibody'])"
   ]
  },
  {
   "cell_type": "code",
   "execution_count": 12,
   "id": "6b7193a6",
   "metadata": {},
   "outputs": [
    {
     "data": {
      "text/plain": [
       "111     ['SGGGLVKPAGSLKLSCAASGFTFSSYYMYWVRQTPDKRLEWVAT...\n",
       "1264    ['QTLSLTCSVTGDSVTSGYWSWIRQFPGNKLDYMGYISYRGSTYY...\n",
       "2044    ['QIQLVQSGPELKKPGETVKISCKASGYTFTDYSMHWVKQAPGKG...\n",
       "2049    ['QVQLMESGPELKKPGETVKISCKASGYTFTDYSMHWVKQAPGKG...\n",
       "2363    ['DVQLVESGGGVVRPGESLTLSCTASGFTFTSSTMNWVRQAPGEG...\n",
       "Name: Antibody, dtype: object"
      ]
     },
     "execution_count": 12,
     "metadata": {},
     "output_type": "execute_result"
    }
   ],
   "source": [
    "data0.loc[data0['Antibody'].str.len()<=225,'Antibody']"
   ]
  },
  {
   "cell_type": "markdown",
   "id": "cbce3184",
   "metadata": {},
   "source": [
    "Amino acids in this dataset only contain 20 types. Each letter represents a type of amino acid within the set (ARNDCEQGHILKMFPSTWYV).\n",
    "![title](img/The-amino-acids-and-their-three-letter-and-one-letter-codes.png)"
   ]
  },
  {
   "cell_type": "code",
   "execution_count": 13,
   "id": "829dce12",
   "metadata": {},
   "outputs": [
    {
     "data": {
      "text/plain": [
       "0       False\n",
       "1       False\n",
       "2       False\n",
       "3       False\n",
       "4       False\n",
       "        ...  \n",
       "2404    False\n",
       "2405    False\n",
       "2406    False\n",
       "2407    False\n",
       "2408    False\n",
       "Name: Antibody, Length: 2409, dtype: bool"
      ]
     },
     "execution_count": 13,
     "metadata": {},
     "output_type": "execute_result"
    }
   ],
   "source": [
    "data0['Antibody'].str.match('([ARNDCEQGHILKMFPSTWYV]+)')"
   ]
  },
  {
   "cell_type": "markdown",
   "id": "e5b9abbf",
   "metadata": {},
   "source": [
    "It is strange that none of them match the 20 amino acid sequence. Lets take the first one to analyze what happened?"
   ]
  },
  {
   "cell_type": "code",
   "execution_count": 14,
   "id": "f0a3e785",
   "metadata": {},
   "outputs": [
    {
     "data": {
      "text/plain": [
       "\"['EVQLQQSGAEVVRSGASVKLSCTASGFNIKDYYIHWVKQRPEKGLEWIGWIDPEIGDTEYVPKFQGKATMTADTSSNTAYLQLSSLTSEDTAVYYCNAGHDYDRGRFPYWGQGTLVTVSA', 'DIVMTQSQKFMSTSVGDRVSITCKASQNVGTAVAWYQQKPGQSPKLMIYSASNRYTGVPDRFTGSGSGTDFTLTISNMQSEDLADYFCQQYSSYPLTFGAGTKLELK']\""
      ]
     },
     "execution_count": 14,
     "metadata": {},
     "output_type": "execute_result"
    }
   ],
   "source": [
    "data0['Antibody'][0]"
   ]
  },
  {
   "cell_type": "markdown",
   "id": "1fafa92f",
   "metadata": {},
   "source": [
    "The antibody sequence contains two parts, hevay chain and light chain. We need to check duplicates and extract two chains."
   ]
  },
  {
   "cell_type": "markdown",
   "id": "2c8476eb",
   "metadata": {},
   "source": [
    "## 6.Check Duplicates"
   ]
  },
  {
   "cell_type": "code",
   "execution_count": 15,
   "id": "7aad63f4",
   "metadata": {},
   "outputs": [
    {
     "data": {
      "text/plain": [
       "817"
      ]
     },
     "execution_count": 15,
     "metadata": {},
     "output_type": "execute_result"
    }
   ],
   "source": [
    "sum(data0['Antibody'].duplicated())"
   ]
  },
  {
   "cell_type": "code",
   "execution_count": 16,
   "id": "82bfbcd8",
   "metadata": {},
   "outputs": [
    {
     "data": {
      "text/plain": [
       "\"['QVQLQQPGAELVKPGASVKLSCKASGYTFTSYWMHWVKQRPGRGLEWIGRIDPNSGGTKYNEKFKSKATLTVDKPSSTAYMQLSSLTSEDSAVYYCARYDYYGSSYFDYWGQGTTVTVSS', 'AVVTQESALTTSPGETVTLTCRSSTGAVTTSNYANWVQEKPDHLFTGLIGGTNNRAPGVPARFSGSLIGNKAALTITGAQTEDEAIYFCALWYSNHWVFGGGTKLTVL']\""
      ]
     },
     "execution_count": 16,
     "metadata": {},
     "output_type": "execute_result"
    }
   ],
   "source": [
    "data0.iloc[11].Antibody\n"
   ]
  },
  {
   "cell_type": "code",
   "execution_count": 17,
   "id": "2d589973",
   "metadata": {},
   "outputs": [
    {
     "data": {
      "text/plain": [
       "\"['QVQLQQPGAELVKPGASVKLSCKASGYTFTSYWMHWVKQRPGRGLEWIGRIDPNSGGTKYNEKFKSKATLTVDKPSSTAYMQLSSLTSEDSAVYYCARYDYYGSSYFDYWGQGTTVTVSS', 'AVVTQESALTTSPGETVTLTCRSSTGAVTTSNYANWVQEKPDHLFTGLIGGTNNRAPGVPARFSGSLIGNKAALTITGAQTEDEAIYFCALWYSNHWVFGGGTKLTVL']\""
      ]
     },
     "execution_count": 17,
     "metadata": {},
     "output_type": "execute_result"
    }
   ],
   "source": [
    "data0.iloc[13].Antibody"
   ]
  },
  {
   "cell_type": "code",
   "execution_count": 18,
   "id": "0bdf1da0",
   "metadata": {},
   "outputs": [
    {
     "data": {
      "text/plain": [
       "'1a6u'"
      ]
     },
     "execution_count": 18,
     "metadata": {},
     "output_type": "execute_result"
    }
   ],
   "source": [
    "data0.iloc[11].Antibody_ID"
   ]
  },
  {
   "cell_type": "code",
   "execution_count": 19,
   "id": "177a709c",
   "metadata": {},
   "outputs": [
    {
     "data": {
      "text/plain": [
       "'1a6w'"
      ]
     },
     "execution_count": 19,
     "metadata": {},
     "output_type": "execute_result"
    }
   ],
   "source": [
    "data0.iloc[13].Antibody_ID"
   ]
  },
  {
   "cell_type": "code",
   "execution_count": 20,
   "id": "7b16638f",
   "metadata": {},
   "outputs": [
    {
     "data": {
      "text/plain": [
       "0"
      ]
     },
     "execution_count": 20,
     "metadata": {},
     "output_type": "execute_result"
    }
   ],
   "source": [
    "data0.iloc[11].Y"
   ]
  },
  {
   "cell_type": "code",
   "execution_count": 21,
   "id": "0324983a",
   "metadata": {},
   "outputs": [
    {
     "data": {
      "text/plain": [
       "0"
      ]
     },
     "execution_count": 21,
     "metadata": {},
     "output_type": "execute_result"
    }
   ],
   "source": [
    "data0.iloc[13].Y"
   ]
  },
  {
   "cell_type": "code",
   "execution_count": 22,
   "id": "4419eb93",
   "metadata": {},
   "outputs": [],
   "source": [
    "data0 = data0[~data0['Antibody'].duplicated()]"
   ]
  },
  {
   "cell_type": "markdown",
   "id": "e17272f8",
   "metadata": {},
   "source": [
    "The antibody has two parts, the first part is heavy chain of the antibody and second part is light chain. So we need to split these two parts."
   ]
  },
  {
   "cell_type": "markdown",
   "id": "d0abae32",
   "metadata": {},
   "source": [
    "## 7.Extract Heavy Chain and Light Chain"
   ]
  },
  {
   "cell_type": "code",
   "execution_count": 23,
   "id": "10a11867",
   "metadata": {},
   "outputs": [],
   "source": [
    "X_heavy = data0['Antibody'].str.findall('[ARNDCEQGHILKMFPSTWYV]+').apply(lambda x: x[0])\n",
    "X_light = data0['Antibody'].str.findall('[ARNDCEQGHILKMFPSTWYV]+').apply(lambda x: x[1])\n",
    "Y = data0['Y']"
   ]
  },
  {
   "cell_type": "code",
   "execution_count": 24,
   "id": "cbd14e61",
   "metadata": {},
   "outputs": [
    {
     "data": {
      "text/plain": [
       "Text(0.5, 0, 'Length of heavy chain of antibodies')"
      ]
     },
     "execution_count": 24,
     "metadata": {},
     "output_type": "execute_result"
    },
    {
     "data": {
      "image/png": "[encoded data removed]",
      "text/plain": [
       "<Figure size 432x288 with 1 Axes>"
      ]
     },
     "metadata": {
      "needs_background": "light"
     },
     "output_type": "display_data"
    }
   ],
   "source": [
    "ax = X_heavy.str.len().plot(kind='hist',bins=20)\n",
    "plt.xlabel('Length of heavy chain of antibodies')"
   ]
  },
  {
   "cell_type": "code",
   "execution_count": 25,
   "id": "9dd94de1",
   "metadata": {},
   "outputs": [
    {
     "data": {
      "text/plain": [
       "Text(0.5, 0, 'Length of light chain of antibodies')"
      ]
     },
     "execution_count": 25,
     "metadata": {},
     "output_type": "execute_result"
    },
    {
     "data": {
      "image/png": "[encoded data removed]",
      "text/plain": [
       "<Figure size 432x288 with 1 Axes>"
      ]
     },
     "metadata": {
      "needs_background": "light"
     },
     "output_type": "display_data"
    }
   ],
   "source": [
    "ax = X_light.str.len().plot(kind='hist',bins=20)\n",
    "plt.xlabel('Length of light chain of antibodies')"
   ]
  },
  {
   "cell_type": "code",
   "execution_count": 26,
   "id": "bfbc4769",
   "metadata": {},
   "outputs": [
    {
     "data": {
      "text/plain": [
       "1236    EVQLRESGPSLVKPSQTLSLTCTASGFSLSDKAVGWVRQAPGKALE...\n",
       "1237    EVQLRESGPSLVQPSQTLSLTCTASGFSLSDKAVGWVRQAPGKALE...\n",
       "1631    QVQLRESGPSLVKPSQTLSLTCTASGFSLSDKAVGWVRQAPGKALE...\n",
       "1752    QVQLRESGPSLVKPSQTLSLTCTASGFSLSDKAVGWVRQAPEKALE...\n",
       "2216    QVQLRESGPSLVKPSQTLSLTCTASGFSLSDKAVGWVRQAPGKALE...\n",
       "2217    QVQLRESGPSLVKPSQTLSLTCTASGFSLSDKAVGWVRQAPGKALE...\n",
       "2218    QVQLRESGPSLVKPSQTLSLTCTASGLSLSDKAVGWVRQAPGKALE...\n",
       "2219    QVQLRESGPSLVKPSQTLSLTCTASGFSLSDKAVGWVRQAPGKALE...\n",
       "2220    QVQLRESGPSLVKPSQTLSLTCTASGFSLSDKAVGWVRQAPGKALE...\n",
       "Name: Antibody, dtype: object"
      ]
     },
     "execution_count": 26,
     "metadata": {},
     "output_type": "execute_result"
    }
   ],
   "source": [
    "X_heavy[X_heavy.str.len()>=160]"
   ]
  },
  {
   "cell_type": "code",
   "execution_count": 27,
   "id": "1233d37d",
   "metadata": {},
   "outputs": [
    {
     "data": {
      "text/plain": [
       "111     SGGGLVKPAGSLKLSCAASGFTFSSYYMYWVRQTPDKRLEWVATIS...\n",
       "1264    QTLSLTCSVTGDSVTSGYWSWIRQFPGNKLDYMGYISYRGSTYYNP...\n",
       "1350    EVQVVESGGGVVQPGRSLRLSCTASGFTFSNFAMGWVRQAPGKGLE...\n",
       "1606    QSVEESGGRLVTPGTPLTLTCTVSGFSLSSNAINWVRQAPGKGLEW...\n",
       "Name: Antibody, dtype: object"
      ]
     },
     "execution_count": 27,
     "metadata": {},
     "output_type": "execute_result"
    }
   ],
   "source": [
    "X_heavy[X_heavy.str.len()<=110]"
   ]
  },
  {
   "cell_type": "code",
   "execution_count": 28,
   "id": "66419533",
   "metadata": {},
   "outputs": [
    {
     "data": {
      "text/plain": [
       "543     QLVLTQSSSASFSLGASAKLTCTLSSQHSTYTIEWYQQQPLKPPKY...\n",
       "618     QLVLTQSSSASFSLGASAKLTCTLSRQHSTYTIEWYQQQPLKPPRY...\n",
       "765     QLVLTQSSSASFSLGASAKLTCTLSSQHSTYTIEWYQQQPLKPPKY...\n",
       "963     DIVMTQSPDSLAVSLGERATINCKSSQSVLYSSNNKNYLAWYQQKP...\n",
       "964     DIVMTQSPDSLAVSLGERATINCKSSQSVLYSSNNKNYLAWYQQKP...\n",
       "984     QLVLTQSSSASFSLGASAKLTCTLNSQHSTYTIEWYQQQPLKPPKY...\n",
       "1198    QLVLTQSSSASFSLGASAKLTCTLSRQHSTYTIEWYQQQPLKPPKF...\n",
       "1255    QPVLTQPTSLSASPGASARLSCTLSSGFTVGRYSIFWYQQKPGSPP...\n",
       "1256    EPVLTQPTFLSASPGASARLSCTLSSGINVGSYSIFWYQQKPGSPP...\n",
       "1338    DIVMTQSPSSLAMSVGQKVTMSCKSSQSLLNSNNQKNYLAWYQQKP...\n",
       "1642    QLVLTQSSSASFSLGASAKLTCTLSSQHSTYTIDWYQQQPLKPPKY...\n",
       "1661    QSALTQPASVSGSPGQSISISCTGTSSDIGGYKYVSWYQQHPGRAP...\n",
       "1782    QLVLTQSSSASFSLGASAKLTCTLSSQHSTYTIEWYQQQPLKPPKF...\n",
       "1816    ESALTQPASVSGSPGQSISISCTGTSSDIGGYKYVSWYQQHPGRAP...\n",
       "1982    DIVMTQSPESLAVSLGERATINCKSSQSVLYSSRSDNKDYLAWYQQ...\n",
       "2237    QLVLTQSSSASFSLGASAKLTCTLSRQHSTYTIEWYQQQPLKPPKY...\n",
       "2284    LPVLTQPPSSSASPGESARLTCTLPSDINVGSYNIYWYQQKPGSPP...\n",
       "2286    LPVLTQPPSSSASPGESARLTCTLPSDISVSSYNIYWYQQKPGSPP...\n",
       "2384    QPVLTQPPSASASLGASVTLTCTLSSGYSNYKVDWYQQRPGKGPRF...\n",
       "Name: Antibody, dtype: object"
      ]
     },
     "execution_count": 28,
     "metadata": {},
     "output_type": "execute_result"
    }
   ],
   "source": [
    "X_light[X_light.str.len()>=115]"
   ]
  },
  {
   "cell_type": "code",
   "execution_count": 29,
   "id": "10be7399",
   "metadata": {},
   "outputs": [
    {
     "data": {
      "text/plain": [
       "2049    DIVLTQSPASLAVSLGQRATISCRASQSVSTSYMHWYQQKPGQPPR...\n",
       "Name: Antibody, dtype: object"
      ]
     },
     "execution_count": 29,
     "metadata": {},
     "output_type": "execute_result"
    }
   ],
   "source": [
    "X_light[X_light.str.len()<=95]"
   ]
  },
  {
   "cell_type": "code",
   "execution_count": null,
   "id": "599eda91",
   "metadata": {},
   "outputs": [],
   "source": []
  },
  {
   "cell_type": "code",
   "execution_count": null,
   "id": "85010d33",
   "metadata": {},
   "outputs": [],
   "source": []
  },
  {
   "cell_type": "markdown",
   "id": "0ef0f591",
   "metadata": {},
   "source": [
    "## Reference\n",
    "Huang, K., Fu, T., Gao, W., Zhao, Y., Roohani, Y., Leskovec, J., ... & Zitnik, M. (2021). Therapeutics Data Commons: Machine learning datasets and tasks for drug discovery and development. arXiv preprint arXiv:2102.09548.\n",
    "\n",
    "Chen, X., Dougherty, T., Hong, C., Schibler, R., Zhao, Y. C., Sadeghi, R., ... & Kerman, I. (2020). Predicting antibody developability from sequence using machine learning. bioRxiv."
   ]
  },
  {
   "cell_type": "code",
   "execution_count": null,
   "id": "a18eb9e2",
   "metadata": {},
   "outputs": [],
   "source": []
  },
  {
   "cell_type": "code",
   "execution_count": null,
   "id": "fb7f8ce6",
   "metadata": {},
   "outputs": [],
   "source": []
  }
 ],
 "metadata": {
  "kernelspec": {
   "display_name": "Python 3 (ipykernel)",
   "language": "python",
   "name": "python3"
  },
  "language_info": {
   "codemirror_mode": {
    "name": "ipython",
    "version": 3
   },
   "file_extension": ".py",
   "mimetype": "text/x-python",
   "name": "python",
   "nbconvert_exporter": "python",
   "pygments_lexer": "ipython3",
   "version": "3.9.7"
  }
 },
 "nbformat": 4,
 "nbformat_minor": 5
}
